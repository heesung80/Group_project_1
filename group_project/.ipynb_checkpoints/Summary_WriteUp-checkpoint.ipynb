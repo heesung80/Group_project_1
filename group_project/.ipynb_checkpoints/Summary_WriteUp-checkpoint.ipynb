{
 "cells": [
  {
   "cell_type": "markdown",
   "metadata": {},
   "source": [
    "# What Makes a Genre?"
   ]
  },
  {
   "cell_type": "markdown",
   "metadata": {},
   "source": [
    "When people discuss the \"kind\" of music they like, a common way to interpret this is by genre. But what does that say about the quality of music within those genres? Our team sought to explore this question by looking at the Spotify API and comparing the qualities of a sampling of songs from each genre. By examining how the traits of songs, like popularity and various \"audio features\", differ between genres, people can gain a better understanding of how a genre can suit specific tastes."
   ]
  },
  {
   "cell_type": "markdown",
   "metadata": {},
   "source": [
    "## Do song audio features of different genres have an effect on each other?"
   ]
  },
  {
   "cell_type": "markdown",
   "metadata": {},
   "source": [
    "Spotify provides scores of several different \"audio features\" about every song through their API. These features include measures for how likely someone can dance to a song, how likely the presence of spoken word is, how instrumental it is, and whether it sounds more positive or negative. In order to determine if any of these audio features had an effect on each other, we looked at regression models of all audio features to determine if any of the relationships seemed interesting.\n",
    "\n",
    "<img src=\"outputs/all_scatters.png\">"
   ]
  },
  {
   "cell_type": "markdown",
   "metadata": {},
   "source": [
    "## Is there a relationship between \"energy\" and \"danceability\"?"
   ]
  },
  {
   "cell_type": "markdown",
   "metadata": {},
   "source": [
    "Danceability and Engergy seemed to have the most clear relationship, so we examined this further.\n",
    "\n",
    "According to Spotify, danceability is determined through \"elements including tempo, rhythm stability, beat stregnth, and overall regularity.\" A track's danceability score is range between 0.0 and 1.0, with a score of 1.0 being most danceable.\n",
    "\n",
    "Energy is also measured on a scale between 0.0 and 1.0, and is determined through \"perceptual features... [which] include dynamic range, perceigved loudness, timbre, onset rate, and general entropy.\"\n",
    "\n",
    "It seems intuitive that a positively correlated relationship would exist between these two features. A song must have energy in order to dance to it. However, our results show that there is a window of energy where songs are generally danceable.\n",
    "\n",
    "<img src=\"outputs/regressEnergy_Danceability.png\">\n",
    "<img src=\"outputs/scatterDanceability_Energy.png\">\n",
    "<img src=\"outputs/scatterDanceability_scatter_Energy.png\">\n",
    "<img src=\"outputs/scatterEnergy_Danceability.png\">\n",
    "<img src=\"outputs/snsenergy_dance_parabola.png\">"
   ]
  },
  {
   "cell_type": "markdown",
   "metadata": {},
   "source": [
    "## Does this relationship differ by genre?"
   ]
  },
  {
   "cell_type": "markdown",
   "metadata": {},
   "source": [
    "There does seem to be some effect on this distribution between genres.\n",
    "\n",
    "<img src=\"outputs/by_genre_classical.png\">\n",
    "\n",
    "<img src=\"outputs/by_genre_hip-hop.png\">\n",
    "\n",
    "<img src=\"outputs/by_genre_electronic.png\">\n",
    "\n",
    "<img src=\"outputs/snsgenrelist_parabolas.png\">"
   ]
  },
  {
   "cell_type": "markdown",
   "metadata": {},
   "source": [
    "## How does song duration vary by genre?"
   ]
  },
  {
   "cell_type": "markdown",
   "metadata": {},
   "source": [
    "There is a great deal of variation in song length between genres. In our examination of genres, we found that 'minimal-techno' had the longest average song length, while 'grindcore' had the shortest.\n",
    "\n",
    "<img src=\"outputs/Average_duration_bar_graph.png\">"
   ]
  },
  {
   "cell_type": "markdown",
   "metadata": {},
   "source": [
    "## Which genres are most and least popular?"
   ]
  },
  {
   "cell_type": "markdown",
   "metadata": {},
   "source": [
    "Spotify's popularity rating is based on a the total number of plays compared to other tracks, as well as how recents those plays are. The value will be between 0 and 100, with 100 being the most popular.\n",
    "\n",
    "Among 122  genres queried, Pop was the most popular and holidays was the least popular. It would be interesting to explore if there is overlap between the genres and how much exists between Pop and other genres that score similarly high. Are there popular genres out there that aren't included in Pop music?\n",
    "\n",
    "<img src=\"outputs/Average_popularity_bar_graph.png\">"
   ]
  },
  {
   "cell_type": "markdown",
   "metadata": {},
   "source": [
    "## Are there clear correlations in the audio qualities of genres, that derive from different continents?"
   ]
  },
  {
   "cell_type": "markdown",
   "metadata": {},
   "source": [
    "All Genres have Energy levels that spiked well above their respective other Audio Features. Speechiness, Danceability and Valence all had similar profiles throughout all the genres, so perhaps in the production of music, these influences each other. In conclusion - energy seems uninfluenced by other Audio Attributes, although all other Attribues are within a similar range.<br><br>\n",
    "<img src=\"outputs/Asian_Genre_Audio_Attributes.png\">\n",
    "<img src=\"outputs/European_Genre_Audio_Attributes.png\">"
   ]
  },
  {
   "cell_type": "markdown",
   "metadata": {},
   "source": [
    "## Does genre have an affect on song key?"
   ]
  },
  {
   "cell_type": "markdown",
   "metadata": {},
   "source": [
    "There does appear to be a relationship between genre and key. When looking at the percentages of all songs from the sample ignoring genre, the distribution of keys is relatively equitable between keys A, G, C, D, and C#/Db, again between keys F, B, and E, and again between F#/Gb, G#/Ab, and A#/Bb. D#/Eb is the least used key in songs across genres by a wide margin.\n",
    "\n",
    "<img src=\"outputs/spotify_keys.png\">\n",
    "\n",
    "Looking at individual genres, however, songs tend to concentrate in just a few keys, in some genres more than others. In \"hip-hop\" the predominant key is C#/Db, with 20% of songs falling within this key and the second most used key being G at 14%. However, classical music is split, with keys D and G being the most popular keys with 16% shares each.\n",
    "\n",
    "<img src=\"outputs/classical_keys.png\">\n",
    "<img src=\"outputs/death-metal_keys.png\">\n",
    "<img src=\"outputs/hip-hop_keys.png\">"
   ]
  },
  {
   "cell_type": "code",
   "execution_count": null,
   "metadata": {},
   "outputs": [],
   "source": []
  }
 ],
 "metadata": {
  "kernelspec": {
   "display_name": "Python 3",
   "language": "python",
   "name": "python3"
  },
  "language_info": {
   "codemirror_mode": {
    "name": "ipython",
    "version": 3
   },
   "file_extension": ".py",
   "mimetype": "text/x-python",
   "name": "python",
   "nbconvert_exporter": "python",
   "pygments_lexer": "ipython3",
   "version": "3.7.6"
  }
 },
 "nbformat": 4,
 "nbformat_minor": 4
}
