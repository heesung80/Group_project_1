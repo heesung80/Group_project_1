{
 "cells": [
  {
   "cell_type": "code",
   "execution_count": 4,
   "metadata": {},
   "outputs": [],
   "source": [
    "import spotipy \n",
    "from spotipy.oauth2 import SpotifyClientCredentials\n",
    "import matplotlib.pyplot as plt\n",
    "import pandas as pd\n",
    "import numpy as np\n",
    "import requests\n",
    "import time\n",
    "import json\n",
    "import scipy.stats as st\n",
    "from scipy.stats import linregress\n",
    "from pprint import pprint"
   ]
  },
  {
   "cell_type": "code",
   "execution_count": 5,
   "metadata": {},
   "outputs": [],
   "source": [
    "cid = ''\n",
    "secret = ''\n",
    "\n",
    "client_credentials_manager = SpotifyClientCredentials(client_id=cid, client_secret=secret)\n",
    "sp = spotipy.Spotify(client_credentials_manager=client_credentials_manager)\n",
    "\n"
   ]
  },
  {
   "cell_type": "code",
   "execution_count": 20,
   "metadata": {},
   "outputs": [],
   "source": [
    "genre_name = []\n",
    "artist_name = []\n",
    "popularity = []\n",
    "artist_id = []\n",
    "for i in range(0,2000,50):\n",
    "    track_results = sp.search(q='year:2019', type= \"artist\", limit=50,offset=i)\n",
    "    #pprint(track_results)\n",
    "    for i, t in enumerate(track_results['artists']['items']):\n",
    "        genre_name.append(t['genres'])\n",
    "        artist_name.append(t['name'])\n",
    "        artist_id.append(t['id'])\n",
    "        popularity.append(t['popularity'])\n",
    "#print(popularity)"
   ]
  },
  {
   "cell_type": "code",
   "execution_count": 21,
   "metadata": {},
   "outputs": [
    {
     "data": {
      "text/html": [
       "<div>\n",
       "<style scoped>\n",
       "    .dataframe tbody tr th:only-of-type {\n",
       "        vertical-align: middle;\n",
       "    }\n",
       "\n",
       "    .dataframe tbody tr th {\n",
       "        vertical-align: top;\n",
       "    }\n",
       "\n",
       "    .dataframe thead th {\n",
       "        text-align: right;\n",
       "    }\n",
       "</style>\n",
       "<table border=\"1\" class=\"dataframe\">\n",
       "  <thead>\n",
       "    <tr style=\"text-align: right;\">\n",
       "      <th></th>\n",
       "      <th>artist_name</th>\n",
       "      <th>genre_name</th>\n",
       "      <th>artist_id</th>\n",
       "      <th>popularity</th>\n",
       "      <th>Loudness</th>\n",
       "      <th>Tempo</th>\n",
       "      <th>duration_ms</th>\n",
       "    </tr>\n",
       "  </thead>\n",
       "  <tbody>\n",
       "    <tr>\n",
       "      <th>0</th>\n",
       "      <td>Drake</td>\n",
       "      <td>[canadian hip hop, canadian pop, hip hop, pop ...</td>\n",
       "      <td>3TVXtAsR1Inumwj472S9r4</td>\n",
       "      <td>100</td>\n",
       "      <td></td>\n",
       "      <td></td>\n",
       "      <td></td>\n",
       "    </tr>\n",
       "    <tr>\n",
       "      <th>1</th>\n",
       "      <td>Lil Uzi Vert</td>\n",
       "      <td>[melodic rap, philly rap, rap]</td>\n",
       "      <td>4O15NlyKLIASxsJ0PrXPfz</td>\n",
       "      <td>94</td>\n",
       "      <td></td>\n",
       "      <td></td>\n",
       "      <td></td>\n",
       "    </tr>\n",
       "    <tr>\n",
       "      <th>2</th>\n",
       "      <td>Travis Scott</td>\n",
       "      <td>[rap]</td>\n",
       "      <td>0Y5tJX1MQlPlqiwlOH1tJY</td>\n",
       "      <td>98</td>\n",
       "      <td></td>\n",
       "      <td></td>\n",
       "      <td></td>\n",
       "    </tr>\n",
       "    <tr>\n",
       "      <th>3</th>\n",
       "      <td>Juice WRLD</td>\n",
       "      <td>[chicago rap, melodic rap]</td>\n",
       "      <td>4MCBfE4596Uoi2O4DtmEMz</td>\n",
       "      <td>95</td>\n",
       "      <td></td>\n",
       "      <td></td>\n",
       "      <td></td>\n",
       "    </tr>\n",
       "    <tr>\n",
       "      <th>4</th>\n",
       "      <td>DaBaby</td>\n",
       "      <td>[nc hip hop, rap]</td>\n",
       "      <td>4r63FhuTkUYltbVAg5TQnk</td>\n",
       "      <td>94</td>\n",
       "      <td></td>\n",
       "      <td></td>\n",
       "      <td></td>\n",
       "    </tr>\n",
       "  </tbody>\n",
       "</table>\n",
       "</div>"
      ],
      "text/plain": [
       "    artist_name                                         genre_name  \\\n",
       "0         Drake  [canadian hip hop, canadian pop, hip hop, pop ...   \n",
       "1  Lil Uzi Vert                     [melodic rap, philly rap, rap]   \n",
       "2  Travis Scott                                              [rap]   \n",
       "3    Juice WRLD                         [chicago rap, melodic rap]   \n",
       "4        DaBaby                                  [nc hip hop, rap]   \n",
       "\n",
       "                artist_id  popularity Loudness Tempo duration_ms  \n",
       "0  3TVXtAsR1Inumwj472S9r4         100                             \n",
       "1  4O15NlyKLIASxsJ0PrXPfz          94                             \n",
       "2  0Y5tJX1MQlPlqiwlOH1tJY          98                             \n",
       "3  4MCBfE4596Uoi2O4DtmEMz          95                             \n",
       "4  4r63FhuTkUYltbVAg5TQnk          94                             "
      ]
     },
     "execution_count": 21,
     "metadata": {},
     "output_type": "execute_result"
    }
   ],
   "source": [
    "track_dataframe = pd.DataFrame({'artist_name' : artist_name, 'genre_name' : genre_name, 'artist_id' : artist_id, 'popularity' : popularity})\n",
    "\n",
    "track_dataframe['Loudness']=\"\"\n",
    "track_dataframe['Tempo']=\"\"\n",
    "track_dataframe['duration_ms']=\"\"\n",
    "track_dataframe.head()"
   ]
  },
  {
   "cell_type": "code",
   "execution_count": 13,
   "metadata": {},
   "outputs": [
    {
     "name": "stdout",
     "output_type": "stream",
     "text": [
      "[\n",
      "    {\n",
      "        \"danceability\": 0.896,\n",
      "        \"energy\": 0.586,\n",
      "        \"key\": 10,\n",
      "        \"loudness\": -6.687,\n",
      "        \"mode\": 0,\n",
      "        \"speechiness\": 0.0559,\n",
      "        \"acousticness\": 0.104,\n",
      "        \"instrumentalness\": 0,\n",
      "        \"liveness\": 0.79,\n",
      "        \"valence\": 0.642,\n",
      "        \"tempo\": 116.971,\n",
      "        \"type\": \"audio_features\",\n",
      "        \"id\": \"0nbXyq5TXYPCO7pr3N8S4I\",\n",
      "        \"uri\": \"spotify:track:0nbXyq5TXYPCO7pr3N8S4I\",\n",
      "        \"track_href\": \"https://api.spotify.com/v1/tracks/0nbXyq5TXYPCO7pr3N8S4I\",\n",
      "        \"analysis_url\": \"https://api.spotify.com/v1/audio-analysis/0nbXyq5TXYPCO7pr3N8S4I\",\n",
      "        \"duration_ms\": 196653,\n",
      "        \"time_signature\": 4\n",
      "    }\n",
      "]\n"
     ]
    }
   ],
   "source": [
    "tids = \"0nbXyq5TXYPCO7pr3N8S4I\"\n",
    "features = sp.audio_features(tids)\n",
    "#delta = time.time() - start\n",
    "print(json.dumps(features, indent=4))"
   ]
  },
  {
   "cell_type": "code",
   "execution_count": null,
   "metadata": {},
   "outputs": [],
   "source": []
  }
 ],
 "metadata": {
  "kernelspec": {
   "display_name": "Python 3",
   "language": "python",
   "name": "python3"
  },
  "language_info": {
   "codemirror_mode": {
    "name": "ipython",
    "version": 3
   },
   "file_extension": ".py",
   "mimetype": "text/x-python",
   "name": "python",
   "nbconvert_exporter": "python",
   "pygments_lexer": "ipython3",
   "version": "3.7.3"
  },
  "varInspector": {
   "cols": {
    "lenName": 16,
    "lenType": 16,
    "lenVar": 40
   },
   "kernels_config": {
    "python": {
     "delete_cmd_postfix": "",
     "delete_cmd_prefix": "del ",
     "library": "var_list.py",
     "varRefreshCmd": "print(var_dic_list())"
    },
    "r": {
     "delete_cmd_postfix": ") ",
     "delete_cmd_prefix": "rm(",
     "library": "var_list.r",
     "varRefreshCmd": "cat(var_dic_list()) "
    }
   },
   "types_to_exclude": [
    "module",
    "function",
    "builtin_function_or_method",
    "instance",
    "_Feature"
   ],
   "window_display": false
  }
 },
 "nbformat": 4,
 "nbformat_minor": 2
}
