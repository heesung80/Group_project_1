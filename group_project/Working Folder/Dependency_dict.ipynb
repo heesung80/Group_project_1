{
 "cells": [
  {
   "cell_type": "code",
   "execution_count": null,
   "metadata": {},
   "outputs": [],
   "source": [
    "# Importing spotipy, which is a lightweight Python library for the Spotify Web API\n",
    "import spotipy as sp\n",
    "\n",
    "# this allows us to see a users playlist - it requires authentication via oauth \n",
    "import spotipy.util as util\n",
    "\n",
    "# This is Spotipy's authenticaion module - used for authenticating the user.\n",
    "import spotipy.oauth2 as oauth2\n",
    "from spotipy.oauth2 import SpotifyClientCredentials\n",
    "\n",
    "# Our comprehensive library for creating some of our project visualisations.\n",
    "import matplotlib.pyplot as plt\n",
    "\n",
    "# Pandas is a Python library for data manipulation and analysis\n",
    "import pandas as pd\n",
    "\n",
    "# NumPy is our Python library, that allows us to work with for large, multi-dimensional arrays and matrices, it also has high-level math functions\n",
    "import numpy as np\n",
    "\n",
    "# Requests is an Apache2-based HTTP library. It will allow us to send HTTP/1.1 requests using Python\n",
    "import requests\n",
    "# Time module provides various time-related functions\n",
    "import time\n",
    "\n",
    "# The Spotify API returns requests as JSON files. This allows us to read and work with JSON.\n",
    "import json\n",
    "\n",
    "# Scipy contains a large number of probability distributions as well as library of statistical functions.\n",
    "import scipy.stats as st\n",
    "\n",
    "# Part of the Scipy library, it allows us to calculate a linear least-squares regression for two sets of measurements.\n",
    "from scipy.stats import linregress \n",
    "\n",
    "# Allows us thecapability to “pretty-print” arbitrary Python data structures in a form which can be used as input to the interpreter\n",
    "from pprint import pprint"
   ]
  }
 ],
 "metadata": {
  "kernelspec": {
   "display_name": "Python 3",
   "language": "python",
   "name": "python3"
  },
  "language_info": {
   "codemirror_mode": {
    "name": "ipython",
    "version": 3
   },
   "file_extension": ".py",
   "mimetype": "text/x-python",
   "name": "python",
   "nbconvert_exporter": "python",
   "pygments_lexer": "ipython3",
   "version": "3.7.7"
  }
 },
 "nbformat": 4,
 "nbformat_minor": 4
}
