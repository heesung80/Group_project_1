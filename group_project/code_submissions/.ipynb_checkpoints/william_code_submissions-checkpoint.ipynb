{
 "cells": [
  {
   "cell_type": "code",
   "execution_count": 1,
   "metadata": {},
   "outputs": [],
   "source": [
    "import spotipy \n",
    "from spotipy.oauth2 import SpotifyClientCredentials\n",
    "import matplotlib.pyplot as plt\n",
    "import pandas as pd\n",
    "import numpy as np\n",
    "import requests\n",
    "import json\n",
    "import scipy.stats as st\n",
    "from scipy.stats import linregress\n",
    "from pprint import pprint\n",
    "import plotly.express as px\n",
    "from math import pi\n",
    "import pygal"
   ]
  },
  {
   "cell_type": "code",
   "execution_count": 2,
   "metadata": {},
   "outputs": [
    {
     "ename": "NameError",
     "evalue": "name 'grouped_dataframe' is not defined",
     "output_type": "error",
     "traceback": [
      "\u001b[0;31m---------------------------------------------------------------------------\u001b[0m",
      "\u001b[0;31mNameError\u001b[0m                                 Traceback (most recent call last)",
      "\u001b[0;32m<ipython-input-2-484752c36da0>\u001b[0m in \u001b[0;36m<module>\u001b[0;34m\u001b[0m\n\u001b[1;32m      3\u001b[0m \u001b[0;34m\u001b[0m\u001b[0m\n\u001b[1;32m      4\u001b[0m \u001b[0;31m# DataFrame with average values, by genre\u001b[0m\u001b[0;34m\u001b[0m\u001b[0;34m\u001b[0m\u001b[0;34m\u001b[0m\u001b[0m\n\u001b[0;32m----> 5\u001b[0;31m \u001b[0mlanguage_genre_agg\u001b[0m \u001b[0;34m=\u001b[0m \u001b[0mgrouped_dataframe\u001b[0m\u001b[0;34m.\u001b[0m\u001b[0maggregate\u001b[0m\u001b[0;34m(\u001b[0m\u001b[0mnp\u001b[0m\u001b[0;34m.\u001b[0m\u001b[0mmean\u001b[0m\u001b[0;34m)\u001b[0m\u001b[0;34m\u001b[0m\u001b[0;34m\u001b[0m\u001b[0m\n\u001b[0m\u001b[1;32m      6\u001b[0m \u001b[0;34m\u001b[0m\u001b[0m\n\u001b[1;32m      7\u001b[0m \u001b[0;31m# Filtering on languages, as per above list\u001b[0m\u001b[0;34m\u001b[0m\u001b[0;34m\u001b[0m\u001b[0;34m\u001b[0m\u001b[0m\n",
      "\u001b[0;31mNameError\u001b[0m: name 'grouped_dataframe' is not defined"
     ]
    }
   ],
   "source": [
    "# List of languages\n",
    "language_genre_list = ['brazil', 'british', 'cantopop', 'mandopop', 'french', 'german', 'indian', 'iranian', 'malay', 'philippines-opm', 'spanish', 'swedish', 'turkish']\n",
    "\n",
    "# DataFrame with average values, by genre\n",
    "language_genre_agg = grouped_dataframe.aggregate(np.mean)\n",
    "\n",
    "# Filtering on languages, as per above list\n",
    "language_genre_df = language_genre_agg.filter(language_genre_list, axis=0)\n",
    "language_genre_df"
   ]
  },
  {
   "cell_type": "code",
   "execution_count": null,
   "metadata": {},
   "outputs": [],
   "source": [
    "# Turning Valence and Energy (measurement scale = 0.0 - 1.0) into percentages, by multiplying by 100\n",
    "language_genre_df[\"Energy\"] = language_genre_df[\"Energy\"] * 100\n",
    "language_genre_df[\"Valence\"] = language_genre_df[\"Valence\"] * 100\n",
    "language_genre_df[\"Danceability\"] = language_genre_df[\"Danceability\"] * 100\n",
    "language_genre_df[\"Speechiness\"] = language_genre_df[\"Speechiness\"] * 100\n",
    "language_genre_df\n",
    "\n",
    "# # Empty list, to store Popularity, Energy and Valence values for each Genre in language_genre_df\n",
    "genre_values = []\n",
    "\n",
    "# For loop, that iterates through Popularity, Energy and Valence rows and appends values to the genre_values list\n",
    "for index, rows in language_genre_df.iterrows():\n",
    "    my_list = [rows.Popularity, rows.Energy, rows.Valence, rows.Danceability, rows.Speechiness]\n",
    "    genre_values.append(my_list)   \n",
    "\n",
    "# # rounding values in nested lists to 2-decimal places.\n",
    "genre_values = np.round(genre_values, 2)\n",
    "genre_values"
   ]
  },
  {
   "cell_type": "code",
   "execution_count": null,
   "metadata": {},
   "outputs": [],
   "source": [
    "# Audio features list\n",
    "audio_features = [\"Popularity\", \"Energy\", \"Valence\", \"Danceability\", \"Speechiness\"]\n",
    "\n",
    "# List of all genre values for Popularity, Energy, Valence\n",
    "\n",
    "# OTHER bucket genres\n",
    "brazil_values = [28.42, 60.34, 61.69, 59.97, 5.61]\n",
    "turkish = [26.61, 70.23, 59.10, 62.56, 6.58]\n",
    "british_values = [39.99, 73.01, 56.9, 54.32, 5.26]"
   ]
  },
  {
   "cell_type": "code",
   "execution_count": null,
   "metadata": {},
   "outputs": [],
   "source": [
    "# Fig w-1 - European Audio Features\n",
    "\n",
    "# EUROPEAN genres, containing values\n",
    "french = [14.26, 53.23, 56.05, 56.66, 6.88]\n",
    "# Closing each radar shape by contatinating the first and last element of each shape.\n",
    "french = np.concatenate((french,[french[0]]))\n",
    "\n",
    "german = [26.65, 71.64, 58.68, 64.01, 9.46] \n",
    "# Closing each radar shape by contatinating the first and last element of each shape.\n",
    "german = np.concatenate((german,[german[0]]))\n",
    "\n",
    "spanish = [42.25, 72.19, 66.47, 65.83, 5.30]\n",
    "# Closing each radar shape by contatinating the first and last element of each shape.\n",
    "spanish = np.concatenate((spanish,[spanish[0]]))\n",
    "\n",
    "swedish = [31.53, 65.55, 57.13, 55.68, 8.01]\n",
    "# Closing each radar shape by contatinating the first and last element of each shape.\n",
    "swedish = np.concatenate((swedish,[swedish[0]]))"
   ]
  },
  {
   "cell_type": "code",
   "execution_count": null,
   "metadata": {},
   "outputs": [],
   "source": [
    "# Calculating evenly-spaced angel coordinates. Using radians for the polar plot with 2 multipled by np pie\n",
    "label_placement = np.linspace(start=0, stop=2*np.pi, num=len(french))\n",
    "print(2*np.pi, 'radians=', 2*np.degrees(2*np.pi), 'degrees')"
   ]
  },
  {
   "cell_type": "code",
   "execution_count": null,
   "metadata": {},
   "outputs": [],
   "source": [
    "print('radians', label_placement)\n",
    "print('degrees', np.degrees(label_placement))"
   ]
  },
  {
   "cell_type": "code",
   "execution_count": null,
   "metadata": {},
   "outputs": [],
   "source": [
    "plt.figure(figsize = (6,6))\n",
    "plt.subplot(polar=True)\n",
    "plt.plot(label_placement, french)\n",
    "plt.plot(label_placement, german)\n",
    "plt.plot(label_placement, spanish)\n",
    "plt.plot(label_placement, swedish)\n",
    "lines, labels = plt.thetagrids(np.degrees(label_placement), labels =audio_features)\n",
    "plt.title('European Genre - Audio Attributes', y=1.1)\n",
    "plt.legend(labels=['French', 'German', 'Spanish', 'Swedish'], loc=(0.95, 0.8))\n",
    "plt.savefig(f\"outputs/European_Genre_Audio_Attributes.png\")"
   ]
  },
  {
   "cell_type": "code",
   "execution_count": null,
   "metadata": {},
   "outputs": [],
   "source": [
    "# fig w-2 - # Fig w-1 - Asian Audio Features\n",
    "\n",
    "# Asian Genres lists, containing values\n",
    "cantopop = [14.23, 49.55, 43.11, 57.97, 4.06]\n",
    "# Closing each radar shape by contatinating the first and last element of each shape.\n",
    "cantopop = np.concatenate((cantopop,[cantopop[0]]))\n",
    "\n",
    "mandopop = [15.17, 48.86, 34.91, 54.73, 3.75]\n",
    "# Closing each radar shape by contatinating the first and last element of each shape.\n",
    "mandopop = np.concatenate((mandopop,[mandopop[0]]))\n",
    "\n",
    "indian = [26.8 , 66.67, 59.07, 62.05, 6.85]\n",
    "# Closing each radar shape by contatinating the first and last element of each shape.\n",
    "indian = np.concatenate((indian,[indian[0]]))\n",
    "\n",
    "iranian = [21.24, 58.50, 60.02, 56.27, 7.12]\n",
    "# Closing each radar shape by contatinating the first and last element of each shape.\n",
    "iranian = np.concatenate((iranian,[iranian[0]]))\n",
    "\n",
    "malay = [16.61, 55.03, 43.90, 50.84, 3.57]\n",
    "# Closing each radar shape by contatinating the first and last element of each shape.\n",
    "malay = np.concatenate((malay,[malay[0]]))\n",
    "\n",
    "phillippines_opm = [9.95, 45.64, 31.98, 48.08, 3.89]\n",
    "# Closing each radar shape by contatinating the first and last element of each shape.\n",
    "phillippines_opm = np.concatenate((phillippines_opm,[phillippines_opm[0]]))"
   ]
  },
  {
   "cell_type": "code",
   "execution_count": null,
   "metadata": {},
   "outputs": [],
   "source": [
    "label_placement = np.linspace(start=0, stop=2*np.pi, num=len(cantopop))\n",
    "print(2*np.pi, 'radians=', 2*np.degrees(2*np.pi), 'degrees')"
   ]
  },
  {
   "cell_type": "code",
   "execution_count": null,
   "metadata": {},
   "outputs": [],
   "source": [
    "print('radians', label_placement)\n",
    "print('degrees', np.degrees(label_placement))"
   ]
  },
  {
   "cell_type": "code",
   "execution_count": null,
   "metadata": {},
   "outputs": [],
   "source": [
    "plt.figure(figsize = (6,6))\n",
    "plt.subplot(polar=True)\n",
    "plt.plot(label_placement, cantopop)\n",
    "plt.plot(label_placement, mandopop)\n",
    "plt.plot(label_placement, indian)\n",
    "plt.plot(label_placement, iranian)\n",
    "plt.plot(label_placement, malay)\n",
    "plt.plot(label_placement, phillippines_opm)\n",
    "lines, labels = plt.thetagrids(np.degrees(label_placement), labels =audio_features)\n",
    "plt.title('Asian Genre - Audio Attributes', y=1.1)\n",
    "plt.legend(labels=['Cantopop', 'Mandopop', 'Indian', 'Iranian', 'Malay', 'Phillippines-OPM'], loc=(0.95, 0.8))\n",
    "plt.savefig(f\"outputs/Asian_Genre_Audio_Attributes.png\")"
   ]
  }
 ],
 "metadata": {
  "kernelspec": {
   "display_name": "Python 3",
   "language": "python",
   "name": "python3"
  },
  "language_info": {
   "codemirror_mode": {
    "name": "ipython",
    "version": 3
   },
   "file_extension": ".py",
   "mimetype": "text/x-python",
   "name": "python",
   "nbconvert_exporter": "python",
   "pygments_lexer": "ipython3",
   "version": "3.7.7"
  }
 },
 "nbformat": 4,
 "nbformat_minor": 4
}
