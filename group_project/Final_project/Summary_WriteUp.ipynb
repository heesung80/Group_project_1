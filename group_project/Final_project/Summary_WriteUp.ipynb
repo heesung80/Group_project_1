{
 "cells": [
  {
   "cell_type": "markdown",
   "metadata": {},
   "source": [
    "# What Makes a Genre?"
   ]
  },
  {
   "cell_type": "markdown",
   "metadata": {},
   "source": [
    "When people discuss the \"kind\" of music they like, a common way to interpret this is by genre. But what does that say about the quality of music within those genres? Our team sought to explore this question by looking at the Spotify API and comparing the qualities of a sampling of songs from each genre. By examining how the traits of songs, like popularity and various \"audio features\", differ between genres, people can gain a better understanding of how a genre can suit specific tastes."
   ]
  },
  {
   "cell_type": "markdown",
   "metadata": {},
   "source": [
    "## Do song audio features of different genres have an effect on each other?"
   ]
  },
  {
   "cell_type": "markdown",
   "metadata": {},
   "source": [
    "Spotify provides scores of several different \"audio features\" about every song through their API. These features include measures for how likely someone can dance to a song, how likely the presence of spoken word is, how instrumental it is, and whether it sounds more positive or negative. In order to determine if any of these audio features had an effect on each other, we looked at regression models of all audio features to determine if any of the relationships seemed interesting.\n",
    "\n",
    "<img src=\"outputs/all_scatters.png\">"
   ]
  },
  {
   "cell_type": "markdown",
   "metadata": {},
   "source": [
    "## Which variables in this dataset seem to have a relationship?"
   ]
  },
  {
   "cell_type": "markdown",
   "metadata": {},
   "source": [
    "<h3> Energy and Danceability</h3>\n",
    "I regressed the energy variable against the danceability variable to see if a song's danceability were determined in part by a song's energy (or rather, if Spotify might use one variable to artificially define the other). It looks like they have a quadratic relationship, with a high level of overall variation.\n",
    "<img src=\"outputs/scatterDanceability_Energy.png\">"
   ]
  },
  {
   "cell_type": "markdown",
   "metadata": {},
   "source": [
    "There is a problem however. Even though danceability should be the dependent variable in this analysis (the idea being that engergy is a causal factor in a song's danceability) We cannot express the data visually this way because the fit line would not express a function. In order for one variable to be a function of the other, there must be exactly one value of Y for every value of X. Here, there appears to be two. We must flip the IV and the DV, understanding that the underlying relationship would ultimately be the same."
   ]
  },
  {
   "cell_type": "markdown",
   "metadata": {},
   "source": [
    "<img src=\"outputs/scatterDanceability_Energy.png\">"
   ]
  },
  {
   "cell_type": "markdown",
   "metadata": {},
   "source": [
    "We can see here visually that the relationship is quadratic: a linear regression line does not fit the data."
   ]
  },
  {
   "cell_type": "markdown",
   "metadata": {},
   "source": [
    "<img src=\"outputs/regressEnergy_Danceability.png\">"
   ]
  },
  {
   "cell_type": "markdown",
   "metadata": {},
   "source": [
    "A parabola fits the data nicely.\n",
    "(Note: seaborn does not provide slope and intercept. I am still working on figuring out how to collect these and to establish statistical significance using Python. Later though, I will demonstrate that the relationship is significant using different methods)."
   ]
  },
  {
   "cell_type": "markdown",
   "metadata": {},
   "source": [
    "<img src=\"outputs/snsenergy_dance_parabola.png\">"
   ]
  },
  {
   "cell_type": "markdown",
   "metadata": {},
   "source": [
    "<h2> Q3: Does the relationship between energy and danceability vary by genre?</h2>\n",
    "First, I created a list of substantively interesting genres based on my own discretion as a researcher. I chose a handful of genres that I thought most people could identify easily. Next, I created a scatter plot fitting the quadratic relationship for each of these genres. As you can see, the relationship between each genre visually differs in a very visible way. Some of these scatterplots are too close to each other to discern a unique relationship clearly, but others are very distinct in terms of their overall levels of danceability and the strength of the curve.\n",
    "\n",
    "In order to know for certain that these are unique relationships, we would need two things (besides measures of overall model robustness) that are not provided here:\n",
    "1. an analysis of the difference between means in terms of danceability for each of these variables, in order to determine that the genres represent unique musical populations.\n",
    "2. An analysis of the difference between beta values, to determine if the slopes in each relationship were significantly different from one another."
   ]
  },
  {
   "cell_type": "markdown",
   "metadata": {},
   "source": [
    "<img src=\"outputs/snsgenrelist_parabolas.png\">"
   ]
  },
  {
   "cell_type": "markdown",
   "metadata": {},
   "source": [
    "## How does song duration vary by genre?"
   ]
  },
  {
   "cell_type": "markdown",
   "metadata": {},
   "source": [
    "There is a great deal of variation in song length between genres. In our examination of genres, we found that 'minimal-techno' had the longest average song length, while 'grindcore' had the shortest.\n",
    "\n",
    "<img src=\"outputs/Average_duration_bar_graph.png\">"
   ]
  },
  {
   "cell_type": "markdown",
   "metadata": {},
   "source": [
    "## Which genres are most and least popular?"
   ]
  },
  {
   "cell_type": "markdown",
   "metadata": {},
   "source": [
    "Spotify's popularity rating is based on a the total number of plays compared to other tracks, as well as how recents those plays are. The value will be between 0 and 100, with 100 being the most popular.\n",
    "\n",
    "Among 122  genres queried, Pop was the most popular and holidays was the least popular. It would be interesting to explore if there is overlap between the genres and how much exists between Pop and other genres that score similarly high. Are there popular genres out there that aren't included in Pop music?\n",
    "\n",
    "<img src=\"outputs/Average_popularity_bar_graph.png\">"
   ]
  },
  {
   "cell_type": "markdown",
   "metadata": {},
   "source": [
    "## Are there clear correlations in the audio qualities of genres, that derive from different continents?"
   ]
  },
  {
   "cell_type": "markdown",
   "metadata": {},
   "source": [
    "All Genres have Energy levels that spiked well above their respective other Audio Features. Speechiness, Danceability and Valence all had similar profiles throughout all the genres, so perhaps in the production of music, these influences each other. In conclusion - energy seems uninfluenced by other Audio Attributes, although all other Attribues are within a similar range.<br><br>\n",
    "<img src=\"outputs/Asian_Genre_Audio_Attributes.png\">\n",
    "<img src=\"outputs/European_Genre_Audio_Attributes.png\">"
   ]
  },
  {
   "cell_type": "markdown",
   "metadata": {},
   "source": [
    "## Does genre have an affect on song key?"
   ]
  },
  {
   "cell_type": "markdown",
   "metadata": {},
   "source": [
    "There does appear to be a relationship between genre and key. When looking at the percentages of all songs from the sample ignoring genre, the distribution of keys is relatively equitable between keys A, G, C, D, and C#/Db, again between keys F, B, and E, and again between F#/Gb, G#/Ab, and A#/Bb. D#/Eb is the least used key in songs across genres by a wide margin.\n",
    "\n",
    "<img src=\"outputs/spotify_keys.png\">\n",
    "\n",
    "Looking at individual genres, however, songs tend to concentrate in just a few keys, in some genres more than others. In \"hip-hop\" the predominant key is C#/Db, with 20% of songs falling within this key and the second most used key being G at 14%. However, classical music is split, with keys D and G being the most popular keys with 16% shares each.\n",
    "\n",
    "<img src=\"outputs/classical_keys.png\">\n",
    "<img src=\"outputs/death-metal_keys.png\">\n",
    "<img src=\"outputs/hip-hop_keys.png\">"
   ]
  },
  {
   "cell_type": "code",
   "execution_count": null,
   "metadata": {},
   "outputs": [],
   "source": []
  }
 ],
 "metadata": {
  "kernelspec": {
   "display_name": "Python 3",
   "language": "python",
   "name": "python3"
  },
  "language_info": {
   "codemirror_mode": {
    "name": "ipython",
    "version": 3
   },
   "file_extension": ".py",
   "mimetype": "text/x-python",
   "name": "python",
   "nbconvert_exporter": "python",
   "pygments_lexer": "ipython3",
   "version": "3.6.10"
  }
 },
 "nbformat": 4,
 "nbformat_minor": 4
}
