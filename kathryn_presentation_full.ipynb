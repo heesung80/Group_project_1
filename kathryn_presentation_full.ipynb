{
 "cells": [
  {
   "cell_type": "markdown",
   "metadata": {},
   "source": [
    "<h1> Spotify Variables: Natural vs Manufactured Relationships</h1>\n",
    "\n",
    "Spoify creates some if its variables based on data from other variables in order to create useful metrics for understanding music. For example, they create variables bounded by 0 and 1 to capture the latent concept of a songs \"energy,\" \"danceability\" and \"speechiness\". In my portion of the project, I sought to understand how these metrics were produced. While many of these variables are propriatary and cannot be accessed with an API call, some of them are not. My goal was to understand how at least one of these metrics are created.\n",
    "\n",
    "<h2> Research Questions </h2>\n",
    "\n",
    "First, I used inductive reasoning to identify which variables were constructed, and which other variables were likely contenters for use in the creation of these variables. Next, I sought to discover the relationship between these variables as defined by the data scientists at Spotify.\n",
    "\n",
    "The inductive question:\n",
    "\n",
    "**1. \"Which variables seem to have a relationship with one another in this dataset?\"**\n",
    "\n",
    "After preliminary data exploration, I identified the variables \"energy\", \"danceibility, and \"loudness\" being a likely contenders. Once I established this, I asked the research question:\n",
    "\n",
    "\n",
    "**2. \"What is the relationship between the \"energy\" variable and other variables in this dataset?\"**\n",
    "\n",
    "Next, after discovering a plausible relationship between  I wanted to know if the relationship between \"energy\" and \"danceability\", I wanted to know if the relationship between these variables differed by genere. In other words:\n",
    "\n",
    "**3. Do genres have differing relationships between \"energy\" and other variables of interest?**\n",
    "\n",
    "Finally, after exploring this in detail, I wanted to use what I had learned to determine the true relationship between \"energy,\" \"danceability,\" and \"loudness\" as developed by the Spotify data scientists.\n",
    "\n",
    "**4. What relationships do Spotify data scientsts use to to generate one or more of their variables?**\n",
    "\n",
    "I determined that the variables \"energy\" \"danceability\", \"loudness\", and \"tempo\" shared a relationship, so I began testing models of each of these variables until I found one that I belived captured some true relationship. I created a model which I believe demonstrates a true relationship between these variables, as engineered by the data scientists at Spotify."
   ]
  },
  {
   "cell_type": "code",
   "execution_count": null,
   "metadata": {},
   "outputs": [],
   "source": [
    "#Shared Dependencies\n",
    "import spotipy \n",
    "from spotipy.oauth2 import SpotifyClientCredentials\n",
    "import matplotlib.pyplot as plt\n",
    "import pandas as pd\n",
    "import numpy as np\n",
    "import requests\n",
    "import json\n",
    "import scipy.stats as st\n",
    "from scipy.stats import linregress\n",
    "from pprint import pprint"
   ]
  },
  {
   "cell_type": "code",
   "execution_count": null,
   "metadata": {},
   "outputs": [],
   "source": [
    "#My Dependencies (relevant to my portion of the project)\n",
    "from sklearn.linear_model import LinearRegression\n",
    "from sklearn.metrics import r2_score\n",
    "from sklearn.metrics import f1_score\n",
    "import sklearn as sk\n",
    "import seaborn as sns\n",
    "from collections import Counter\n",
    "from IPython.display import Image\n",
    "import os"
   ]
  },
  {
   "cell_type": "code",
   "execution_count": null,
   "metadata": {},
   "outputs": [],
   "source": [
    "from config import cid\n",
    "from config import secret\n",
    "client_credentials_manager = SpotifyClientCredentials(client_id=cid, client_secret=secret)\n",
    "sp = spotipy.Spotify(client_credentials_manager=client_credentials_manager)"
   ]
  },
  {
   "cell_type": "code",
   "execution_count": null,
   "metadata": {},
   "outputs": [],
   "source": [
    "cleansed=\"../Final_project/cleansed.csv\"\n",
    "master=\"master.csv\"\n",
    "weights=\"weights.csv\"\n",
    "grouped=\"grouped_data.csv\""
   ]
  },
  {
   "cell_type": "code",
   "execution_count": null,
   "metadata": {},
   "outputs": [],
   "source": [
    "cleansed_df=pd.read_csv(\"cleansed_df.csv\")"
   ]
  },
  {
   "cell_type": "markdown",
   "metadata": {},
   "source": [
    "<h2> Creating a weighted dataset </h2>\n",
    "As a team, we collected 100 songs from each genre from Spotify's API. This means that the data is naturally biased, since some genres are overrepresented. Here, I began the process of weighting the dataset by genre. The goal was to look at the the 50 newest releases, and to weight the data based on how often generes came up in these tracks. Unfortunately, this process was never completed. Some barriers to this method were:\n",
    "\n",
    "**1.There were too many genres to meaningfully weight the dataset given the limits that are placed on how much data we can pull in with a single API call. **\n",
    "\n",
    "**2.Time limitations on this project created constraints on what I could prioritize.**\n",
    "\n",
    "Nevertheless, I feel confident in my results, and I will defend them below. "
   ]
  },
  {
   "cell_type": "code",
   "execution_count": null,
   "metadata": {},
   "outputs": [],
   "source": [
    "#################################################\n",
    "###Getting a weighted Dataset by Recent Genres###\n",
    "#################################################\n",
    "\n",
    "#--- collect 50 new releases\n",
    "news = sp.new_releases(country=None, limit=50, offset=0)\n",
    "newlist=[]\n",
    "for i in range(0,49):\n",
    "    newlist.append(news[\"albums\"][\"items\"][i][\"artists\"][0]['id'])\n",
    "    \n",
    "#--- get the genres\n",
    "rep_genres=[]\n",
    "for i in range(len(newlist)):\n",
    "    artist = sp.artist(\"spotify:artist:\"+ newlist[i])\n",
    "    genre_group=(artist[\"genres\"])\n",
    "\n",
    "    rep_genres.append(genre_group)\n",
    "            \n",
    "#--- Put in flat list\n",
    "rep_list = []\n",
    "for sublist in rep_genres:\n",
    "    for item in sublist:\n",
    "        rep_list.append(item)\n",
    "        \n",
    "        \n",
    "#---Get counts\n",
    "weighted_dict = Counter(rep_list)\n",
    "new_dict={}\n",
    "for key, value in weighted_dict.items():\n",
    "    new_dict[key] = value\n",
    "    \n",
    "#---Drop genres with counts of 1 \n",
    "#---(Too many genres, sample too small. This is my solution)\n",
    "noone_dict={}\n",
    "for key, value in new_dict.items():\n",
    "    if value!=1:\n",
    "        noone_dict[key]=value\n",
    "    else:\n",
    "        continue\n",
    "        \n",
    "#... to be continued. This was hard."
   ]
  },
  {
   "cell_type": "markdown",
   "metadata": {},
   "source": [
    "<h2>Defining Functions </h2>\n",
    "Before beginning my analysis, I defined some functions that would be useful. These were:\n",
    "    \n",
    "    1. A regression function\n",
    "    \n",
    "    2. A scatter function\n",
    "   "
   ]
  },
  {
   "cell_type": "code",
   "execution_count": null,
   "metadata": {},
   "outputs": [],
   "source": [
    "#Define function for simple linear regression\n",
    "def reg(d,i,f):\n",
    "    dataframe= f[[d,i]]\n",
    "    dataframe.plot.scatter( x=[d] , y=[i])\n",
    "    \n",
    "    x= dataframe[[d]]\n",
    "    y= dataframe[[i]]\n",
    "    \n",
    "    model=LinearRegression()\n",
    "    model.fit(x,y)\n",
    "    beta=model.coef_\n",
    "    alpha=model.intercept_\n",
    "    yline=model.predict(x)\n",
    "    plt.scatter(x,y)\n",
    "    plt.plot(x, yline,\"r\")\n",
    "    Rsquare=r2_score(y, yline)\n",
    "\n",
    "\n",
    "    plt.title(f\"{d} by {i}\")\n",
    "    plt.xlabel(f\"{d}\")\n",
    "    plt.ylabel(f\"{i}\")\n",
    "    \n",
    "#----Display coeficient, intercept, and R^2\n",
    "    print(f\"\\u03B2 ={beta}\")\n",
    "    print(f\"\\u03B1 ={alpha}\")\n",
    "    print(f\"R^2={Rsquare}\")\n",
    "    plt.savefig(f\"outputs/regress{d}_{i}.png\")\n",
    "    plt.show()"
   ]
  },
  {
   "cell_type": "code",
   "execution_count": null,
   "metadata": {},
   "outputs": [],
   "source": [
    "#Define function for scatter\n",
    "def scatter(d,i,f):\n",
    "    dataframe= f[[d,i]]\n",
    "    dataframe.plot.scatter( x=[d] , y=[i])\n",
    "    \n",
    "    x= dataframe[[d]]\n",
    "    y= dataframe[[i]]\n",
    "    plt.scatter(x,y)\n",
    "\n",
    "\n",
    "    plt.title(f\"{d} by {i}\")\n",
    "    plt.xlabel(f\"{d}\")\n",
    "    plt.ylabel(f\"{i}\")\n",
    "    plt.savefig(f\"outputs/scatter{d}_scatter_{i}.png\")\n",
    "\n",
    "    plt.show()"
   ]
  },
  {
   "cell_type": "markdown",
   "metadata": {},
   "source": [
    "<h2>Q1: \"Which variables seem to have a relationship with one another in this dataset?\" </h2>\n",
    "\n",
    "I conducted correlation analysis and  created scatter plots to look for possible relationships.\n",
    "I did this mostly by hand, looking at each chart individually, but later I found two commands to make this easier, depicted below. Here, you can see that the distribution of the variabels mostly do not have obvious relationships, however the energy variable seems associated with the danceability variable, as well as the loudness variable."
   ]
  },
  {
   "cell_type": "code",
   "execution_count": null,
   "metadata": {},
   "outputs": [],
   "source": [
    "sns.pairplot(cleansed_df)\n",
    "plt.savefig(\"all_scatters.png\")"
   ]
  },
  {
   "cell_type": "markdown",
   "metadata": {},
   "source": [
    "A correlation analysis also reveals an interesting relationship between energy and loudness"
   ]
  },
  {
   "cell_type": "code",
   "execution_count": null,
   "metadata": {},
   "outputs": [],
   "source": [
    "print (cleansed_df.corr())"
   ]
  },
  {
   "source": [],
   "cell_type": "code",
   "metadata": {},
   "execution_count": null,
   "outputs": []
  },
  {
   "cell_type": "markdown",
   "metadata": {},
   "source": [
    "<h2>Q2: \"What is the relationship between the \"energy\" variable and other variables in this dataset?\"</h2>\n",
    "    Next, it was time to conduct regression analyses to analyze these relationships more carefully."
   ]
  },
  {
   "cell_type": "markdown",
   "metadata": {},
   "source": [
    "<h3> Energy and Danceability</h3>\n",
    "I regressed the energy variable against the danceability variable to see if a song's danceability were determined in part by a song's energy (or rather, if Spotify might use one variable to artificially define the other). It looks like they have a quadratic relationship, with a high level of overall variation."
   ]
  },
  {
   "cell_type": "code",
   "execution_count": null,
   "metadata": {},
   "outputs": [],
   "source": [
    "scatter(\"Danceability\",\"Energy\", cleansed_df)\n"
   ]
  },
  {
   "cell_type": "markdown",
   "metadata": {},
   "source": [
    "There is a problem however. Even though I want danceability to be my dependent variable in this analysis (the idea being that engergy is a causal factor in a song's danceability) I cannot express the data visually this way because the fit line would not express a function. In order for one variable to be a function of the other, there must be exactly one value of Y for every value of X. Here, there appears to be two. I flipped the IV and the DV, understanding that the underlying relationship would ultimately be the same."
   ]
  },
  {
   "cell_type": "code",
   "execution_count": null,
   "metadata": {},
   "outputs": [],
   "source": [
    "scatter(\"Energy\",\"Danceability\", cleansed_df)\n"
   ]
  },
  {
   "cell_type": "markdown",
   "metadata": {},
   "source": [
    "We can see here visually that the relationship is quadratic: a linear regression line does not fit the data."
   ]
  },
  {
   "cell_type": "code",
   "execution_count": null,
   "metadata": {},
   "outputs": [],
   "source": [
    "reg(\"Energy\",\"Danceability\", cleansed_df)"
   ]
  },
  {
   "cell_type": "markdown",
   "metadata": {},
   "source": [
    "A parabola fits the data nicely.\n",
    "(Note: seaborn does not provide slope and intercept. I am still working on figuring out how to collect these and to establish statistical significance using Python. Later though, I will demonstrate that the relationship is significant using different methods)."
   ]
  },
  {
   "cell_type": "code",
   "execution_count": null,
   "metadata": {},
   "outputs": [],
   "source": [
    "sns.lmplot(\"Energy\",\"Danceability\", cleansed_df, line_kws={'color': 'red'}, order=2)\n",
    "title=\"energy_dance_parabola\"\n",
    "plt.savefig(f\"outputs/sns{title}.png\")"
   ]
  },
  {
   "cell_type": "markdown",
   "metadata": {},
   "source": [
    "<h2> Q3: Does the relationship between energy and danceability vary by genre?</h2>\n",
    "First, I created a list of substantively interesting genres based on my own discretion as a researcher. I chose a handful of genres that I thought most people could identify easily. Next, I created a scatter plot fitting the quadratic relationship for each of these genres. As you can see, the relationship between each genre visually differs in a very visible way. Some of these scatterplots are too close to each other to discern a unique relationship clearly, but others are very distinct in terms of their overall levels of danceability and the strength of the curve.\n",
    "\n",
    "In order to know for certain that these are unique relationships, we would need two things (besides measures of overall model robustness) that are not provided here:\n",
    "1. an analysis of the difference between means in terms of danceability for each of these variables, in order to determine that the genres represent unique musical populations.\n",
    "2. An analysis of the difference between beta values, to determine if the slopes in each relationship were significantly different from one another."
   ]
  },
  {
   "cell_type": "code",
   "execution_count": null,
   "metadata": {},
   "outputs": [],
   "source": [
    "#Generate a list of substantively interesting genres.\n",
    "#Method: researcher's careful judgment (That's academic language for \n",
    "#I made it up. Suggestions for a better list are welcomed.)\n",
    "substantive_list=[\"classical\",\"country\",\"electronic\",\"jazz\",\"hip-hop\",\"rock\",\"pop\"]"
   ]
  },
  {
   "cell_type": "code",
   "execution_count": null,
   "metadata": {},
   "outputs": [],
   "source": [
    "#Compare the relationship for each genre.\n",
    "#It looks like pop music and rock music have the most \"normal\" looking relationship.\n",
    "#We can also see that different genres have very different average energy distributions.\n",
    "\n",
    "subs_df=cleansed_df.loc[cleansed_df[\"Genre\"].isin([\"classical\",\"country\",\"electronic\",\"jazz\",\"hip-hop\",\"rock\",\"pop\"])]\n",
    "sns.lmplot(x=\"Energy\", y=\"Danceability\", data=subs_df ,order=2, hue=\"Genre\")\n",
    "title=\"genrelist_parabolas\"\n",
    "plt.savefig(f\"outputs/sns{title}.png\")"
   ]
  },
  {
   "cell_type": "markdown",
   "metadata": {},
   "source": [
    "The relative position of the genres on this chart is reproduceable with repeated API calls. The results raise some interesting questions. Why is the energy and danceability of classical music so low compared to other genres? Why is the curve associated with \"Pop\" music  more regular and predictible than the other genres? Why is the hip-hop genre lacking in any visual assocation along the same curve? Is this random chance, or is there something unique about these genres which set them apart? Is this a true characteristic of the population, or is this a function of the processes Spotify uses in order to define these two metrics?\n",
    "\n",
    "In order to shed more light on these questions, I created a separate chart for each of the genres in my substantively-interesting genre list. The results do not provide clear answers, but they are worth considering."
   ]
  },
  {
   "cell_type": "code",
   "execution_count": null,
   "metadata": {},
   "outputs": [],
   "source": [
    "#Compare the relationship for each genre using a separate chart.\n",
    "for genre in substantive_list:\n",
    "    tempframe=cleansed_df.loc[cleansed_df[\"Genre\"]==genre]\n",
    "    sns.lmplot(x=\"Energy\", y=\"Danceability\", data=tempframe, order=2, line_kws={'color': 'red'})\n",
    "    plt.title(f\"Energy by Danceability for {genre.title()} Music\")\n",
    "    plt.xlabel(f\"Energy\")\n",
    "    plt.ylabel(f\"Daneability\")\n",
    "    title=\"by_genre\"\n",
    "    plt.savefig(f\"outputs/{title}_{genre}.png\")"
   ]
  },
  {
   "cell_type": "markdown",
   "metadata": {},
   "source": [
    "<h2> Q4: \"What relationships do Spotify data scientsts use to to generate their \"energy\" variable?\" </h2>\n",
    "\n",
    "At this point, I was running out of time for this project, and I still did not have any beta values or the ability to demonstrate statistical significance. I am not giving up on this goal! However in order to achieve a sense of personal satisfaction, I plugged the data into STATA and compared several models of danceability. The final model is very promising. There seems to be a quadratic relationship whereby danceability is a function of loudness and tempo. I believe that energy, danceability, or both are created using the two other variables. Here is my reasoning:"
   ]
  },
  {
   "cell_type": "markdown",
   "metadata": {},
   "source": [
    "1. I already knew that spotify gets their \"Danceability\" variable through a combination of tempo, loudness, and some propriatery variables that I don't have access to. They do not specify what kind of relationship, but we already have good reason to suspect that it is quadratic. Here is an image of the documentation taken from the Spotify website:"
   ]
  },
  {
   "cell_type": "code",
   "execution_count": null,
   "metadata": {},
   "outputs": [],
   "source": [
    "Image(filename='outputs/spotify_energy.PNG') \n"
   ]
  },
  {
   "cell_type": "markdown",
   "metadata": {},
   "source": [
    "2.Based on this information I created a simple linear regression equation with all of these IVs and with Daneability as the DV."
   ]
  },
  {
   "cell_type": "code",
   "execution_count": null,
   "metadata": {},
   "outputs": [],
   "source": [
    "#Based on this information I created a simple linear regression equation with all of\n",
    "#these IVs and with Daneability as the DV.\n",
    "\n",
    "Image(filename=\"../outputs/reg_dance_energy_tempo_loud.PNG\")"
   ]
  },
  {
   "cell_type": "markdown",
   "metadata": {},
   "source": [
    "3. The t-score on tempo was huge, so I thought there might be a multicolinearity issue. I tested for this by looking at the correlations of the IVs. I found that energy and loudness are much too correlated to include both in this analysis. This shouldn't be surprising, since we already know that loudness and tempo #are both used to calculate energy. I decided to drop energy from the analysis."
   ]
  },
  {
   "cell_type": "code",
   "execution_count": null,
   "metadata": {},
   "outputs": [],
   "source": [
    "Image(filename=\"../outputs/corr_energy_tempo_loud.PNG\")"
   ]
  },
  {
   "cell_type": "markdown",
   "metadata": {},
   "source": [
    "When I did this, The t-scores for both of the other variables increased and the F score increased. #The R^2 value decreased, but only marginally. This means that we have a better-fitting model that explains about the same amount of variation in danceability."
   ]
  },
  {
   "cell_type": "markdown",
   "metadata": {},
   "source": [
    "<img src= \"../outputs/reg_dance_tempo_loud.PNG\">"
   ]
  },
  {
   "cell_type": "markdown",
   "metadata": {},
   "source": [
    "4. We saw before that we have good reason to believe that the relationship is quadratic, so I created quadratic terms\n",
    "for the equation on both remaining variables. Both were statistically significant."
   ]
  },
  {
   "cell_type": "code",
   "execution_count": null,
   "metadata": {},
   "outputs": [],
   "source": [
    "Image(filename=\"../outputs/reg_dance_loud__tempo_quad.PNG\") "
   ]
  },
  {
   "cell_type": "markdown",
   "metadata": {},
   "source": [
    "4. Now its time to test whether or not I still need the linear term in the equation\n",
    "even after adding the quadratic one. I ran two models to test this,  each one isolating\n",
    "the regular and quadratic terms as IVs. In both cases, both terms remained statistically\n",
    "significant (there is a problem with the tempo-squared term however, but I did not notice this until later, so I'll discuss it later in this document)"
   ]
  },
  {
   "cell_type": "code",
   "execution_count": null,
   "metadata": {},
   "outputs": [],
   "source": [
    "Image(filename=\"../outputs/reg_dance_loudsq_loud.PNG\")"
   ]
  },
  {
   "cell_type": "code",
   "execution_count": null,
   "metadata": {},
   "outputs": [],
   "source": [
    "Image(filename=\"../outputs/reg_dance_temposq_tempo.PNG\")"
   ]
  },
  {
   "cell_type": "markdown",
   "metadata": {},
   "source": [
    "4. Next, I tested the model with squared terms only (they turned out to be significant)\n",
    "Rather than display them all, here's the final model of danceability (about 18% of the variance in danceability explained)."
   ]
  },
  {
   "cell_type": "code",
   "execution_count": null,
   "metadata": {},
   "outputs": [],
   "source": [
    "Image(filename=\"../outputs/final_model.PNG\")"
   ]
  },
  {
   "cell_type": "markdown",
   "metadata": {},
   "source": [
    "Given that this model predicts danceability so well, and that we already knew that the energy variable is based on these two measures, I wondered if maybe the energy variable was generated using the same quadratic formula I made to predict danceability, so I ran that model next (below). Note: I thought this was my final model at the time, hence the file name and highlighted high R-squared value, but I explain correct my error in the next cell\n",
    "\n"
   ]
  },
  {
   "cell_type": "code",
   "execution_count": null,
   "metadata": {},
   "outputs": [],
   "source": [
    "Image(filename=\"../outputs/final_energy.PNG\")"
   ]
  },
  {
   "cell_type": "markdown",
   "metadata": {},
   "source": [
    "This model looks *very* good, because it explains over 60 percent of the variance in energy. There is a problem however. The unreasonably large standard error on the squared term for the tempo variable indicates a multicolinearity issue. This term does not belong in the model. Next, I dropped that term. Here is the *real* final model below:"
   ]
  },
  {
   "cell_type": "code",
   "execution_count": null,
   "metadata": {},
   "outputs": [],
   "source": [
    "Image(filename=\"../outputs/TRUE_final_model.PNG\")"
   ]
  },
  {
   "cell_type": "markdown",
   "metadata": {},
   "source": [
    "<h2> Results: A (More Rigorous) Model Explaining over 60% of the variation in Energy</h2>\n",
    "The R squared value is ~0.64, which is very high. F is significant, and all variables are significant with large t-scores and reasonable-sized standard errors.\n",
    "\n",
    "Based on these results, we have good reason to believe that Spotify uses these variables in their model when they generate their \"energy\" variable for music tracks. One way we could refine this model further would be to do model comparative statistics using AIC and BIC.\n",
    "\n",
    "Conclusion:\n",
    "We have empirical evidence that Spotify creates their energy variable as a quadratic function of loudness and a linear function of tempo."
   ]
  },
  {
   "cell_type": "markdown",
   "metadata": {},
   "source": [
    "--------------------------------------------------------------------\n",
    "<h2> Bonus Round! Try to get R-squared as high as possible while explaining the \"energy\" variable</h2>\n",
    "For fun, I decided to see if I could build a model using the variables at my disposal to maximize R-squared while maintaining reasonable standard errors and in which all independent variables are significant predictors of the dependent variable, \"energy\". Adding and removing variables in the absense of theory or hypotheses is NOT best practice, and it is not a reliable way to learn about the data. I do not intend this to be a serious model of Spotify's \"danceability\" variable, This is just a fun exercise. \n",
    "\n",
    "In order to maximize the amount of variance explained by my model I conducted backward stepwise regression on our original linear terms only, adding variables to the model based on the critera of 5% confidence (p<=0.05). Disappointingly, every variable made the cut.  The final R-squared value on this was greater than we achieved in our final model for \"energy\" above. This model explains approximately 68% of the variance in song energy. The only variable which had an unreasonable standard error in this model was song duration. Next, I tried forward stepwise regression with every linear variable at the same confidence level, and the results were exactly the same. "
   ]
  },
  {
   "cell_type": "code",
   "execution_count": null,
   "metadata": {},
   "outputs": [],
   "source": [
    "Image(filename=\"../outputs/backward_stepwise_energy.PNG\")"
   ]
  },
  {
   "cell_type": "markdown",
   "metadata": {},
   "source": [
    "Next, I added in the squared \"loudness\" term, since we  demonstrated earlier that this is a likely *real* predictor of energy. This brought the R-squared value to 0.6964; just shy of 70% of the variance explained. I really wanted to push that number to 0.7, so I tried generating more quadratic terms to throw into the model, but all to no avail; they either had multicolinearity issues and threw up impossibly large standard errors, or else they were statistically significant but did not impact overall model-fit. Given this limited dataset, I feel confident that I achieved the \"best fitting model\" (quantitatively, but not substantively!) that I could possibly achieve. Here is the final non-substantive, just-for-fun model of \"energy\". "
   ]
  },
  {
   "cell_type": "code",
   "execution_count": null,
   "metadata": {},
   "outputs": [],
   "source": [
    "Image(filename=\"../outputs/inflated_model_energy.PNG\")"
   ]
  },
  {
   "cell_type": "code",
   "execution_count": null,
   "metadata": {},
   "outputs": [],
   "source": [
    "cleansed_df.columns"
   ]
  },
  {
   "cell_type": "code",
   "execution_count": null,
   "metadata": {
    "tags": []
   },
   "outputs": [],
   "source": [
    "# Assign the data to X and y\n",
    "cleansed_df[\"Loudness_sq\"]=cleansed_df[\"Loudness\"]**2\n",
    "x = cleansed_df[[\"Loudness\", \"Loudness_sq\",\"Tempo\"]]\n",
    "y = cleansed_df[\"Energy\"].values.reshape(-1, 1)\n",
    "print(x.shape, y.shape)"
   ]
  },
  {
   "cell_type": "code",
   "execution_count": null,
   "metadata": {
    "tags": []
   },
   "outputs": [],
   "source": [
    "from sklearn.linear_model import LinearRegression\n",
    "model = LinearRegression()\n",
    "from sklearn import feature_selection\n",
    "\n",
    "# Fitting our model with all of our features in X\n",
    "model.fit(x, y)\n",
    "predictions = model.predict(x)\n",
    "predictions_shaped=predictions.reshape(-1, 1)\n",
    "predictions_final=np.round(predictions_shaped, 3)\n",
    "#F=sk.metrics.f1_score(y, predictions_final)\n",
    "f=sk.feature_selection.f_regression(x,y)\n",
    "Rscore = model.score(x, y)\n",
    "print(f\"R2 Score: {Rscore}, F Score, p-value: {f}\")\n",
    "mse=sk.metrics.mean_squared_error(y, predictions_shaped)\n",
    "print(mse)\n",
    "df=3\n",
    "dfr=10813\n",
    "rss=mse*dfr\n",
    "#mss\n",
    "mss=0\n",
    "for i in range(0,len(y)):\n",
    "    yhat=predictions_shaped[i]-np.mean(y)\n",
    "    yhatsq=yhat**2\n",
    "    mss+=yhatsq\n",
    "#msm\n",
    "msm=mss/df\n",
    "#"
   ]
  },
  {
   "cell_type": "code",
   "execution_count": null,
   "metadata": {},
   "outputs": [],
   "source": [
    "model.fit(x,y)"
   ]
  },
  {
   "cell_type": "code",
   "execution_count": null,
   "metadata": {},
   "outputs": [],
   "source": [
    "predictions = model.predict(x)\n",
    "plt.scatter(predictions, predictions - y)\n",
    "plt.hlines(y=0, xmin=predictions.min(), xmax=predictions.max())\n",
    "plt.show()"
   ]
  },
  {
   "cell_type": "code",
   "execution_count": null,
   "metadata": {},
   "outputs": [],
   "source": [
    "def regress(*args):\n",
    "    #import dependencies\n",
    "    from sklearn.linear_model import LinearRegression\n",
    "    model = LinearRegression()\n",
    "    from sklearn import feature_selection\n",
    "    #define arguments\n",
    "    dataframe=args[0]\n",
    "    y=args[1]\n",
    "    xvars=[]\n",
    "    for i in range(2,len(args)):\n",
    "        xvars.append(args[i])\n",
    "    x = dataframe[[item for item in xvars]]\n",
    "    y = dataframe[y].values.reshape(-1, 1)\n",
    "    #fit the model\n",
    "    model.fit(x,y)\n",
    "    #Generate Fit Statistics\n",
    "    ##degrees of freedom, model\n",
    "    df_m=len(xvars)\n",
    "    ##degrees of freedom, error\n",
    "    df_e=len(y)-len(xvars)\n",
    "    Rscore = model.score(x, y)\n",
    "    Ftest=sk.feature_selection.f_regression(x,y)\n",
    "    predictions = model.predict(x).reshape(-1, 1)\n",
    "    MSE=sk.metrics.mean_squared_error(y, predictions)\n",
    "    ##mss\n",
    "    MSS=0\n",
    "    for i in range(0,len(y)):\n",
    "        yhat=predictions_shaped[i]-np.mean(y)\n",
    "        yhatsq=yhat**2\n",
    "        mss+=yhatsq\n"
   ]
  },
  {
   "cell_type": "code",
   "execution_count": null,
   "metadata": {
    "tags": []
   },
   "outputs": [],
   "source": [
    "regress(cleansed_df,\"Energy\",\"Loudness\", \"Loudness_sq\",\"Tempo\")"
   ]
  },
  {
   "cell_type": "code",
   "execution_count": null,
   "metadata": {},
   "outputs": [],
   "source": []
  }
 ],
 "metadata": {
  "kernelspec": {
   "display_name": "Python 3.6.10 64-bit ('PythonDataViz': conda)",
   "language": "python",
   "name": "python361064bitpythondatavizcondaed56fc30986a464784f8a472c80ebaf6"
  },
  "language_info": {
   "codemirror_mode": {
    "name": "ipython",
    "version": 3
   },
   "file_extension": ".py",
   "mimetype": "text/x-python",
   "name": "python",
   "nbconvert_exporter": "python",
   "pygments_lexer": "ipython3",
   "version": "3.6.10-final"
  }
 },
 "nbformat": 4,
 "nbformat_minor": 4
}